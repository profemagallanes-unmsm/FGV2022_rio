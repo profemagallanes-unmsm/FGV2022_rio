{
 "cells": [
  {
   "cell_type": "markdown",
   "id": "402943b1",
   "metadata": {},
   "source": [
    "# Formatting Data (dates)\n",
    "\n",
    "It is very common to find dates (some combination of year, month, day of week and time) in data that is collected in real time (and other that organize event information.\n",
    "\n",
    "Let's see a data frame that comes with dates from an API."
   ]
  },
  {
   "cell_type": "code",
   "execution_count": 2,
   "id": "75f3c948",
   "metadata": {},
   "outputs": [
    {
     "name": "stderr",
     "output_type": "stream",
     "text": [
      "WARNING:root:Requests made without an app_token will be subject to strict throttling limits.\n"
     ]
    }
   ],
   "source": [
    "import pandas as pd\n",
    "from sodapy import Socrata\n",
    "\n",
    "client = Socrata(\"data.seattle.gov\", None)\n",
    "\n",
    "results = client.get(\"kzjm-xkqj\", limit=2000)\n",
    "\n",
    "# Convert to pandas DataFrame\n",
    "calls911 = pd.DataFrame.from_records(results)"
   ]
  },
  {
   "cell_type": "markdown",
   "id": "33d1b686",
   "metadata": {},
   "source": [
    "Let's check some information:"
   ]
  },
  {
   "cell_type": "code",
   "execution_count": 3,
   "id": "8b6e8130",
   "metadata": {},
   "outputs": [
    {
     "name": "stdout",
     "output_type": "stream",
     "text": [
      "<class 'pandas.core.frame.DataFrame'>\n",
      "RangeIndex: 2000 entries, 0 to 1999\n",
      "Data columns (total 12 columns):\n",
      " #   Column                       Non-Null Count  Dtype \n",
      "---  ------                       --------------  ----- \n",
      " 0   address                      2000 non-null   object\n",
      " 1   type                         2000 non-null   object\n",
      " 2   datetime                     2000 non-null   object\n",
      " 3   latitude                     1996 non-null   object\n",
      " 4   longitude                    1996 non-null   object\n",
      " 5   report_location              1997 non-null   object\n",
      " 6   incident_number              2000 non-null   object\n",
      " 7   :@computed_region_ru88_fbhk  1992 non-null   object\n",
      " 8   :@computed_region_kuhn_3gp2  1992 non-null   object\n",
      " 9   :@computed_region_q256_3sug  1997 non-null   object\n",
      " 10  :@computed_region_2day_rhn5  176 non-null    object\n",
      " 11  :@computed_region_cyqu_gs94  165 non-null    object\n",
      "dtypes: object(12)\n",
      "memory usage: 187.6+ KB\n"
     ]
    }
   ],
   "source": [
    "calls911.info()"
   ]
  },
  {
   "cell_type": "markdown",
   "id": "411ee94b",
   "metadata": {},
   "source": [
    "Let's get rid of some columns:"
   ]
  },
  {
   "cell_type": "code",
   "execution_count": 4,
   "id": "ff87b95f",
   "metadata": {},
   "outputs": [],
   "source": [
    "calls911=calls911.iloc[:,:7]"
   ]
  },
  {
   "cell_type": "markdown",
   "id": "ea1b71f9",
   "metadata": {},
   "source": [
    "Let's check the column _datetime_:"
   ]
  },
  {
   "cell_type": "code",
   "execution_count": 5,
   "id": "c61dade2",
   "metadata": {},
   "outputs": [
    {
     "data": {
      "text/plain": [
       "0    2022-08-18T10:15:00.000\n",
       "1    2022-08-18T10:08:00.000\n",
       "2    2022-08-18T10:07:00.000\n",
       "3    2022-08-18T09:11:00.000\n",
       "4    2022-08-18T09:06:00.000\n",
       "Name: datetime, dtype: object"
      ]
     },
     "execution_count": 5,
     "metadata": {},
     "output_type": "execute_result"
    }
   ],
   "source": [
    "calls911.datetime.head()"
   ]
  },
  {
   "cell_type": "code",
   "execution_count": 6,
   "id": "0685a26d",
   "metadata": {},
   "outputs": [
    {
     "data": {
      "text/plain": [
       "str"
      ]
     },
     "execution_count": 6,
     "metadata": {},
     "output_type": "execute_result"
    }
   ],
   "source": [
    "# then\n",
    "type(calls911.datetime[0])\n"
   ]
  },
  {
   "cell_type": "markdown",
   "id": "bf7e8e20",
   "metadata": {},
   "source": [
    "The date and time information is not useful at this time, that is, the information it offers is of limited use, as it is just a string. \n",
    "\n",
    "Let's make it useful:"
   ]
  },
  {
   "cell_type": "code",
   "execution_count": 7,
   "id": "3e232c75",
   "metadata": {
    "scrolled": true
   },
   "outputs": [
    {
     "name": "stdout",
     "output_type": "stream",
     "text": [
      "<class 'pandas.core.frame.DataFrame'>\n",
      "RangeIndex: 2000 entries, 0 to 1999\n",
      "Data columns (total 7 columns):\n",
      " #   Column           Non-Null Count  Dtype         \n",
      "---  ------           --------------  -----         \n",
      " 0   address          2000 non-null   object        \n",
      " 1   type             2000 non-null   object        \n",
      " 2   datetime         2000 non-null   datetime64[ns]\n",
      " 3   latitude         1996 non-null   object        \n",
      " 4   longitude        1996 non-null   object        \n",
      " 5   report_location  1997 non-null   object        \n",
      " 6   incident_number  2000 non-null   object        \n",
      "dtypes: datetime64[ns](1), object(6)\n",
      "memory usage: 109.5+ KB\n"
     ]
    }
   ],
   "source": [
    "calls911.datetime=pd.to_datetime(calls911.datetime,format='%Y-%m-%d')\n",
    "calls911.info()"
   ]
  },
  {
   "cell_type": "markdown",
   "id": "b90004bf",
   "metadata": {},
   "source": [
    "Once you have this data type, you can retrieve important information:"
   ]
  },
  {
   "cell_type": "code",
   "execution_count": 8,
   "id": "0d7637b8",
   "metadata": {},
   "outputs": [],
   "source": [
    "calls911['date']=calls911.datetime.dt.date\n",
    "calls911['year']=calls911.datetime.dt.year\n",
    "calls911['month']=calls911.datetime.dt.month_name()\n",
    "calls911['weekday']=calls911.datetime.dt.day_name()\n",
    "calls911['hour']=calls911.datetime.dt.hour"
   ]
  },
  {
   "cell_type": "code",
   "execution_count": 9,
   "id": "6c1581d8",
   "metadata": {},
   "outputs": [
    {
     "data": {
      "text/html": [
       "<div>\n",
       "<style scoped>\n",
       "    .dataframe tbody tr th:only-of-type {\n",
       "        vertical-align: middle;\n",
       "    }\n",
       "\n",
       "    .dataframe tbody tr th {\n",
       "        vertical-align: top;\n",
       "    }\n",
       "\n",
       "    .dataframe thead th {\n",
       "        text-align: right;\n",
       "    }\n",
       "</style>\n",
       "<table border=\"1\" class=\"dataframe\">\n",
       "  <thead>\n",
       "    <tr style=\"text-align: right;\">\n",
       "      <th></th>\n",
       "      <th>address</th>\n",
       "      <th>type</th>\n",
       "      <th>datetime</th>\n",
       "      <th>latitude</th>\n",
       "      <th>longitude</th>\n",
       "      <th>report_location</th>\n",
       "      <th>incident_number</th>\n",
       "      <th>date</th>\n",
       "      <th>year</th>\n",
       "      <th>month</th>\n",
       "      <th>weekday</th>\n",
       "      <th>hour</th>\n",
       "    </tr>\n",
       "  </thead>\n",
       "  <tbody>\n",
       "    <tr>\n",
       "      <th>0</th>\n",
       "      <td>4th Ave N / Mercer St</td>\n",
       "      <td>Triaged Incident</td>\n",
       "      <td>2022-08-18 10:15:00</td>\n",
       "      <td>47.624564</td>\n",
       "      <td>-122.348877</td>\n",
       "      <td>{'type': 'Point', 'coordinates': [-122.348877,...</td>\n",
       "      <td>F220099503</td>\n",
       "      <td>2022-08-18</td>\n",
       "      <td>2022</td>\n",
       "      <td>August</td>\n",
       "      <td>Thursday</td>\n",
       "      <td>10</td>\n",
       "    </tr>\n",
       "    <tr>\n",
       "      <th>1</th>\n",
       "      <td>815 S Dearborn St</td>\n",
       "      <td>Investigate Out Of Service</td>\n",
       "      <td>2022-08-18 10:08:00</td>\n",
       "      <td>47.595831</td>\n",
       "      <td>-122.322292</td>\n",
       "      <td>{'type': 'Point', 'coordinates': [-122.322292,...</td>\n",
       "      <td>F220099502</td>\n",
       "      <td>2022-08-18</td>\n",
       "      <td>2022</td>\n",
       "      <td>August</td>\n",
       "      <td>Thursday</td>\n",
       "      <td>10</td>\n",
       "    </tr>\n",
       "    <tr>\n",
       "      <th>2</th>\n",
       "      <td>9401 Myers Way S</td>\n",
       "      <td>Triaged Incident</td>\n",
       "      <td>2022-08-18 10:07:00</td>\n",
       "      <td>47.518658</td>\n",
       "      <td>-122.333265</td>\n",
       "      <td>{'type': 'Point', 'coordinates': [-122.333265,...</td>\n",
       "      <td>F220099501</td>\n",
       "      <td>2022-08-18</td>\n",
       "      <td>2022</td>\n",
       "      <td>August</td>\n",
       "      <td>Thursday</td>\n",
       "      <td>10</td>\n",
       "    </tr>\n",
       "    <tr>\n",
       "      <th>3</th>\n",
       "      <td>11030 5th Ave Ne</td>\n",
       "      <td>Auto Fire Alarm</td>\n",
       "      <td>2022-08-18 09:11:00</td>\n",
       "      <td>47.709488</td>\n",
       "      <td>-122.323301</td>\n",
       "      <td>{'type': 'Point', 'coordinates': [-122.323301,...</td>\n",
       "      <td>F220099179</td>\n",
       "      <td>2022-08-18</td>\n",
       "      <td>2022</td>\n",
       "      <td>August</td>\n",
       "      <td>Thursday</td>\n",
       "      <td>9</td>\n",
       "    </tr>\n",
       "    <tr>\n",
       "      <th>4</th>\n",
       "      <td>3013 Harvard Ave E</td>\n",
       "      <td>MVI - Motor Vehicle Incident</td>\n",
       "      <td>2022-08-18 09:06:00</td>\n",
       "      <td>47.647935</td>\n",
       "      <td>-122.322101</td>\n",
       "      <td>{'type': 'Point', 'coordinates': [-122.322101,...</td>\n",
       "      <td>F220099178</td>\n",
       "      <td>2022-08-18</td>\n",
       "      <td>2022</td>\n",
       "      <td>August</td>\n",
       "      <td>Thursday</td>\n",
       "      <td>9</td>\n",
       "    </tr>\n",
       "  </tbody>\n",
       "</table>\n",
       "</div>"
      ],
      "text/plain": [
       "                 address                          type            datetime  \\\n",
       "0  4th Ave N / Mercer St              Triaged Incident 2022-08-18 10:15:00   \n",
       "1      815 S Dearborn St    Investigate Out Of Service 2022-08-18 10:08:00   \n",
       "2       9401 Myers Way S              Triaged Incident 2022-08-18 10:07:00   \n",
       "3       11030 5th Ave Ne               Auto Fire Alarm 2022-08-18 09:11:00   \n",
       "4     3013 Harvard Ave E  MVI - Motor Vehicle Incident 2022-08-18 09:06:00   \n",
       "\n",
       "    latitude    longitude                                    report_location  \\\n",
       "0  47.624564  -122.348877  {'type': 'Point', 'coordinates': [-122.348877,...   \n",
       "1  47.595831  -122.322292  {'type': 'Point', 'coordinates': [-122.322292,...   \n",
       "2  47.518658  -122.333265  {'type': 'Point', 'coordinates': [-122.333265,...   \n",
       "3  47.709488  -122.323301  {'type': 'Point', 'coordinates': [-122.323301,...   \n",
       "4  47.647935  -122.322101  {'type': 'Point', 'coordinates': [-122.322101,...   \n",
       "\n",
       "  incident_number        date  year   month   weekday  hour  \n",
       "0      F220099503  2022-08-18  2022  August  Thursday    10  \n",
       "1      F220099502  2022-08-18  2022  August  Thursday    10  \n",
       "2      F220099501  2022-08-18  2022  August  Thursday    10  \n",
       "3      F220099179  2022-08-18  2022  August  Thursday     9  \n",
       "4      F220099178  2022-08-18  2022  August  Thursday     9  "
      ]
     },
     "execution_count": 9,
     "metadata": {},
     "output_type": "execute_result"
    }
   ],
   "source": [
    "calls911.head()"
   ]
  },
  {
   "cell_type": "markdown",
   "id": "5aee7d81",
   "metadata": {},
   "source": [
    "Let's create a new column with what we have. In this case, a boolean where you tell if it is night time (after 8 pm before 6 am):"
   ]
  },
  {
   "cell_type": "code",
   "execution_count": 10,
   "id": "335b1a0f",
   "metadata": {},
   "outputs": [],
   "source": [
    "calls911['nightTime']=((calls911['hour']<=6) | (calls911['hour']>=20))"
   ]
  },
  {
   "cell_type": "markdown",
   "id": "b60afa87",
   "metadata": {},
   "source": [
    "Let's save what we have:"
   ]
  },
  {
   "cell_type": "code",
   "execution_count": 11,
   "id": "cd1e7920",
   "metadata": {},
   "outputs": [
    {
     "data": {
      "text/html": [
       "<div>\n",
       "<style scoped>\n",
       "    .dataframe tbody tr th:only-of-type {\n",
       "        vertical-align: middle;\n",
       "    }\n",
       "\n",
       "    .dataframe tbody tr th {\n",
       "        vertical-align: top;\n",
       "    }\n",
       "\n",
       "    .dataframe thead th {\n",
       "        text-align: right;\n",
       "    }\n",
       "</style>\n",
       "<table border=\"1\" class=\"dataframe\">\n",
       "  <thead>\n",
       "    <tr style=\"text-align: right;\">\n",
       "      <th></th>\n",
       "      <th>address</th>\n",
       "      <th>type</th>\n",
       "      <th>datetime</th>\n",
       "      <th>latitude</th>\n",
       "      <th>longitude</th>\n",
       "      <th>report_location</th>\n",
       "      <th>incident_number</th>\n",
       "      <th>date</th>\n",
       "      <th>year</th>\n",
       "      <th>month</th>\n",
       "      <th>weekday</th>\n",
       "      <th>hour</th>\n",
       "      <th>nightTime</th>\n",
       "    </tr>\n",
       "  </thead>\n",
       "  <tbody>\n",
       "    <tr>\n",
       "      <th>0</th>\n",
       "      <td>4th Ave N / Mercer St</td>\n",
       "      <td>Triaged Incident</td>\n",
       "      <td>2022-08-18 10:15:00</td>\n",
       "      <td>47.624564</td>\n",
       "      <td>-122.348877</td>\n",
       "      <td>{'type': 'Point', 'coordinates': [-122.348877,...</td>\n",
       "      <td>F220099503</td>\n",
       "      <td>2022-08-18</td>\n",
       "      <td>2022</td>\n",
       "      <td>August</td>\n",
       "      <td>Thursday</td>\n",
       "      <td>10</td>\n",
       "      <td>False</td>\n",
       "    </tr>\n",
       "    <tr>\n",
       "      <th>1</th>\n",
       "      <td>815 S Dearborn St</td>\n",
       "      <td>Investigate Out Of Service</td>\n",
       "      <td>2022-08-18 10:08:00</td>\n",
       "      <td>47.595831</td>\n",
       "      <td>-122.322292</td>\n",
       "      <td>{'type': 'Point', 'coordinates': [-122.322292,...</td>\n",
       "      <td>F220099502</td>\n",
       "      <td>2022-08-18</td>\n",
       "      <td>2022</td>\n",
       "      <td>August</td>\n",
       "      <td>Thursday</td>\n",
       "      <td>10</td>\n",
       "      <td>False</td>\n",
       "    </tr>\n",
       "    <tr>\n",
       "      <th>2</th>\n",
       "      <td>9401 Myers Way S</td>\n",
       "      <td>Triaged Incident</td>\n",
       "      <td>2022-08-18 10:07:00</td>\n",
       "      <td>47.518658</td>\n",
       "      <td>-122.333265</td>\n",
       "      <td>{'type': 'Point', 'coordinates': [-122.333265,...</td>\n",
       "      <td>F220099501</td>\n",
       "      <td>2022-08-18</td>\n",
       "      <td>2022</td>\n",
       "      <td>August</td>\n",
       "      <td>Thursday</td>\n",
       "      <td>10</td>\n",
       "      <td>False</td>\n",
       "    </tr>\n",
       "    <tr>\n",
       "      <th>3</th>\n",
       "      <td>11030 5th Ave Ne</td>\n",
       "      <td>Auto Fire Alarm</td>\n",
       "      <td>2022-08-18 09:11:00</td>\n",
       "      <td>47.709488</td>\n",
       "      <td>-122.323301</td>\n",
       "      <td>{'type': 'Point', 'coordinates': [-122.323301,...</td>\n",
       "      <td>F220099179</td>\n",
       "      <td>2022-08-18</td>\n",
       "      <td>2022</td>\n",
       "      <td>August</td>\n",
       "      <td>Thursday</td>\n",
       "      <td>9</td>\n",
       "      <td>False</td>\n",
       "    </tr>\n",
       "    <tr>\n",
       "      <th>4</th>\n",
       "      <td>3013 Harvard Ave E</td>\n",
       "      <td>MVI - Motor Vehicle Incident</td>\n",
       "      <td>2022-08-18 09:06:00</td>\n",
       "      <td>47.647935</td>\n",
       "      <td>-122.322101</td>\n",
       "      <td>{'type': 'Point', 'coordinates': [-122.322101,...</td>\n",
       "      <td>F220099178</td>\n",
       "      <td>2022-08-18</td>\n",
       "      <td>2022</td>\n",
       "      <td>August</td>\n",
       "      <td>Thursday</td>\n",
       "      <td>9</td>\n",
       "      <td>False</td>\n",
       "    </tr>\n",
       "    <tr>\n",
       "      <th>...</th>\n",
       "      <td>...</td>\n",
       "      <td>...</td>\n",
       "      <td>...</td>\n",
       "      <td>...</td>\n",
       "      <td>...</td>\n",
       "      <td>...</td>\n",
       "      <td>...</td>\n",
       "      <td>...</td>\n",
       "      <td>...</td>\n",
       "      <td>...</td>\n",
       "      <td>...</td>\n",
       "      <td>...</td>\n",
       "      <td>...</td>\n",
       "    </tr>\n",
       "    <tr>\n",
       "      <th>1995</th>\n",
       "      <td>1236 S King St</td>\n",
       "      <td>Aid Response</td>\n",
       "      <td>2022-08-12 12:07:00</td>\n",
       "      <td>47.598337</td>\n",
       "      <td>-122.316533</td>\n",
       "      <td>{'type': 'Point', 'coordinates': [-122.316533,...</td>\n",
       "      <td>F220096444</td>\n",
       "      <td>2022-08-12</td>\n",
       "      <td>2022</td>\n",
       "      <td>August</td>\n",
       "      <td>Friday</td>\n",
       "      <td>12</td>\n",
       "      <td>False</td>\n",
       "    </tr>\n",
       "    <tr>\n",
       "      <th>1996</th>\n",
       "      <td>6312 California Ave Sw</td>\n",
       "      <td>Medic Response</td>\n",
       "      <td>2022-08-12 12:02:00</td>\n",
       "      <td>47.546604</td>\n",
       "      <td>-122.387196</td>\n",
       "      <td>{'type': 'Point', 'coordinates': [-122.387196,...</td>\n",
       "      <td>F220096443</td>\n",
       "      <td>2022-08-12</td>\n",
       "      <td>2022</td>\n",
       "      <td>August</td>\n",
       "      <td>Friday</td>\n",
       "      <td>12</td>\n",
       "      <td>False</td>\n",
       "    </tr>\n",
       "    <tr>\n",
       "      <th>1997</th>\n",
       "      <td>1023 E Alder St</td>\n",
       "      <td>Auto Fire Alarm</td>\n",
       "      <td>2022-08-12 12:00:00</td>\n",
       "      <td>47.60436</td>\n",
       "      <td>-122.319104</td>\n",
       "      <td>{'type': 'Point', 'coordinates': [-122.319104,...</td>\n",
       "      <td>F220096442</td>\n",
       "      <td>2022-08-12</td>\n",
       "      <td>2022</td>\n",
       "      <td>August</td>\n",
       "      <td>Friday</td>\n",
       "      <td>12</td>\n",
       "      <td>False</td>\n",
       "    </tr>\n",
       "    <tr>\n",
       "      <th>1998</th>\n",
       "      <td>1401 2nd Ave</td>\n",
       "      <td>Aid Response</td>\n",
       "      <td>2022-08-12 11:58:00</td>\n",
       "      <td>47.608292</td>\n",
       "      <td>-122.337995</td>\n",
       "      <td>{'type': 'Point', 'coordinates': [-122.337995,...</td>\n",
       "      <td>F220096441</td>\n",
       "      <td>2022-08-12</td>\n",
       "      <td>2022</td>\n",
       "      <td>August</td>\n",
       "      <td>Friday</td>\n",
       "      <td>11</td>\n",
       "      <td>False</td>\n",
       "    </tr>\n",
       "    <tr>\n",
       "      <th>1999</th>\n",
       "      <td>4111 30th Ave S</td>\n",
       "      <td>Low Acuity Response</td>\n",
       "      <td>2022-08-12 11:55:00</td>\n",
       "      <td>47.566172</td>\n",
       "      <td>-122.295803</td>\n",
       "      <td>{'type': 'Point', 'coordinates': [-122.295803,...</td>\n",
       "      <td>F220096440</td>\n",
       "      <td>2022-08-12</td>\n",
       "      <td>2022</td>\n",
       "      <td>August</td>\n",
       "      <td>Friday</td>\n",
       "      <td>11</td>\n",
       "      <td>False</td>\n",
       "    </tr>\n",
       "  </tbody>\n",
       "</table>\n",
       "<p>2000 rows × 13 columns</p>\n",
       "</div>"
      ],
      "text/plain": [
       "                     address                          type  \\\n",
       "0      4th Ave N / Mercer St              Triaged Incident   \n",
       "1          815 S Dearborn St    Investigate Out Of Service   \n",
       "2           9401 Myers Way S              Triaged Incident   \n",
       "3           11030 5th Ave Ne               Auto Fire Alarm   \n",
       "4         3013 Harvard Ave E  MVI - Motor Vehicle Incident   \n",
       "...                      ...                           ...   \n",
       "1995          1236 S King St                  Aid Response   \n",
       "1996  6312 California Ave Sw                Medic Response   \n",
       "1997         1023 E Alder St               Auto Fire Alarm   \n",
       "1998            1401 2nd Ave                  Aid Response   \n",
       "1999         4111 30th Ave S           Low Acuity Response   \n",
       "\n",
       "                datetime   latitude    longitude  \\\n",
       "0    2022-08-18 10:15:00  47.624564  -122.348877   \n",
       "1    2022-08-18 10:08:00  47.595831  -122.322292   \n",
       "2    2022-08-18 10:07:00  47.518658  -122.333265   \n",
       "3    2022-08-18 09:11:00  47.709488  -122.323301   \n",
       "4    2022-08-18 09:06:00  47.647935  -122.322101   \n",
       "...                  ...        ...          ...   \n",
       "1995 2022-08-12 12:07:00  47.598337  -122.316533   \n",
       "1996 2022-08-12 12:02:00  47.546604  -122.387196   \n",
       "1997 2022-08-12 12:00:00   47.60436  -122.319104   \n",
       "1998 2022-08-12 11:58:00  47.608292  -122.337995   \n",
       "1999 2022-08-12 11:55:00  47.566172  -122.295803   \n",
       "\n",
       "                                        report_location incident_number  \\\n",
       "0     {'type': 'Point', 'coordinates': [-122.348877,...      F220099503   \n",
       "1     {'type': 'Point', 'coordinates': [-122.322292,...      F220099502   \n",
       "2     {'type': 'Point', 'coordinates': [-122.333265,...      F220099501   \n",
       "3     {'type': 'Point', 'coordinates': [-122.323301,...      F220099179   \n",
       "4     {'type': 'Point', 'coordinates': [-122.322101,...      F220099178   \n",
       "...                                                 ...             ...   \n",
       "1995  {'type': 'Point', 'coordinates': [-122.316533,...      F220096444   \n",
       "1996  {'type': 'Point', 'coordinates': [-122.387196,...      F220096443   \n",
       "1997  {'type': 'Point', 'coordinates': [-122.319104,...      F220096442   \n",
       "1998  {'type': 'Point', 'coordinates': [-122.337995,...      F220096441   \n",
       "1999  {'type': 'Point', 'coordinates': [-122.295803,...      F220096440   \n",
       "\n",
       "            date  year   month   weekday  hour  nightTime  \n",
       "0     2022-08-18  2022  August  Thursday    10      False  \n",
       "1     2022-08-18  2022  August  Thursday    10      False  \n",
       "2     2022-08-18  2022  August  Thursday    10      False  \n",
       "3     2022-08-18  2022  August  Thursday     9      False  \n",
       "4     2022-08-18  2022  August  Thursday     9      False  \n",
       "...          ...   ...     ...       ...   ...        ...  \n",
       "1995  2022-08-12  2022  August    Friday    12      False  \n",
       "1996  2022-08-12  2022  August    Friday    12      False  \n",
       "1997  2022-08-12  2022  August    Friday    12      False  \n",
       "1998  2022-08-12  2022  August    Friday    11      False  \n",
       "1999  2022-08-12  2022  August    Friday    11      False  \n",
       "\n",
       "[2000 rows x 13 columns]"
      ]
     },
     "execution_count": 11,
     "metadata": {},
     "output_type": "execute_result"
    }
   ],
   "source": [
    "calls911"
   ]
  },
  {
   "cell_type": "code",
   "execution_count": 12,
   "id": "954e790c",
   "metadata": {},
   "outputs": [],
   "source": [
    "import os\n",
    "\n",
    "where=os.path.join('DataFiles','calls911.pkl')\n",
    "calls911.to_pickle(where)"
   ]
  },
  {
   "cell_type": "code",
   "execution_count": null,
   "id": "b3c281bc",
   "metadata": {},
   "outputs": [],
   "source": []
  }
 ],
 "metadata": {
  "kernelspec": {
   "display_name": "Python 3 (ipykernel)",
   "language": "python",
   "name": "python3"
  },
  "language_info": {
   "codemirror_mode": {
    "name": "ipython",
    "version": 3
   },
   "file_extension": ".py",
   "mimetype": "text/x-python",
   "name": "python",
   "nbconvert_exporter": "python",
   "pygments_lexer": "ipython3",
   "version": "3.9.12"
  }
 },
 "nbformat": 4,
 "nbformat_minor": 5
}
