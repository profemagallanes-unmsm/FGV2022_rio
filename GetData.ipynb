{
 "cells": [
  {
   "cell_type": "markdown",
   "metadata": {
    "id": "vDPPxz0-hFad"
   },
   "source": [
    "# Getting data into Python"
   ]
  },
  {
   "cell_type": "markdown",
   "metadata": {
    "id": "Gp9Qyu8lhAC9"
   },
   "source": [
    "The data in this example will come from this location:\n",
    "\n",
    "* [https://en.wikipedia.org/wiki/List_of_wars_by_death_toll](https://en.wikipedia.org/wiki/List_of_wars_by_death_toll)"
   ]
  },
  {
   "cell_type": "code",
   "execution_count": null,
   "metadata": {
    "id": "otvmQuXthm9N"
   },
   "outputs": [],
   "source": [
    "# here we save the comple link (in quotations):\n",
    "link='https://en.wikipedia.org/wiki/List_of_wars_by_death_toll'"
   ]
  },
  {
   "cell_type": "markdown",
   "metadata": {
    "id": "ncdqePWThxwF"
   },
   "source": [
    "The operation to get dat from the web requires more than the basic Python functions. Then, you need to install some extra packages:\n",
    "* pandas\n",
    "* html5lib\n",
    "* beautifulsoup4\n",
    "* lxml\n",
    "* requests. "
   ]
  },
  {
   "cell_type": "code",
   "execution_count": null,
   "metadata": {
    "id": "bm1Ly4Tfj9lL"
   },
   "outputs": [],
   "source": [
    "# this code can help you know if you already have the packages listed above:\n",
    "\n",
    "!pip show pandas html5lib beautifulsoup4 lxml requests "
   ]
  },
  {
   "cell_type": "code",
   "execution_count": null,
   "metadata": {
    "id": "RI3VZnrpDlJ3"
   },
   "outputs": [],
   "source": [
    "!python --version"
   ]
  },
  {
   "cell_type": "markdown",
   "metadata": {
    "id": "LbBO6_yBmT1U"
   },
   "source": [
    "Any package not available can be installed using **pip install _package-name_** . Let's bring the table easily with pandas' *read_html*:"
   ]
  },
  {
   "cell_type": "code",
   "execution_count": null,
   "metadata": {
    "id": "D1KA_ElJlykr"
   },
   "outputs": [],
   "source": [
    "import pandas as pd\n",
    "\n",
    "\n",
    "wars=pd.read_html(io=link, # reading the info from link\n",
    "                  flavor='bs4', # the parsing engine\n",
    "                  attrs = {'class': 'sortable wikitable'})# how did I know this?"
   ]
  },
  {
   "cell_type": "markdown",
   "metadata": {
    "id": "QZgL_g_NnzXy"
   },
   "source": [
    "The object **wars** is not a table, but a list (of sortable wiki tables):"
   ]
  },
  {
   "cell_type": "code",
   "execution_count": null,
   "metadata": {
    "colab": {
     "base_uri": "https://localhost:8080/"
    },
    "id": "w8C0hLOpnwkR",
    "outputId": "aedff9f4-ebb3-4c9d-c17d-9a40f73e146f"
   },
   "outputs": [],
   "source": [
    "# type of object\n",
    "type(wars)"
   ]
  },
  {
   "cell_type": "markdown",
   "metadata": {
    "id": "j2bsR5gfoBcu"
   },
   "source": [
    "...and we have this many:"
   ]
  },
  {
   "cell_type": "code",
   "execution_count": null,
   "metadata": {
    "colab": {
     "base_uri": "https://localhost:8080/"
    },
    "id": "PbiDbqr2n-eG",
    "outputId": "f4e1fb04-91ee-48e1-bcfd-7297af6ac236"
   },
   "outputs": [],
   "source": [
    "len(wars)"
   ]
  },
  {
   "cell_type": "markdown",
   "metadata": {
    "id": "QcopPZ0HW8Oi"
   },
   "source": [
    "You can access each element of the list using an index inside '[ ]'. This is what you have in the first element:"
   ]
  },
  {
   "cell_type": "code",
   "execution_count": null,
   "metadata": {
    "colab": {
     "base_uri": "https://localhost:8080/"
    },
    "id": "33r3HIGlXMGn",
    "outputId": "04df15b5-ead8-46c9-8797-2ab231d773c7"
   },
   "outputs": [],
   "source": [
    "type(wars[0]) #the first starts in zero in Python."
   ]
  },
  {
   "cell_type": "markdown",
   "metadata": {
    "id": "Mh_yDazUXdbt"
   },
   "source": [
    "The first element of _wars_ is a pandas dataframe. Let's check some info:"
   ]
  },
  {
   "cell_type": "code",
   "execution_count": null,
   "metadata": {
    "colab": {
     "base_uri": "https://localhost:8080/"
    },
    "id": "dXcslXd_YcGj",
    "outputId": "3544becf-bfb5-47bc-8a8f-13803aa16222"
   },
   "outputs": [],
   "source": [
    "wars[0].shape # amount of rows and columns"
   ]
  },
  {
   "cell_type": "code",
   "execution_count": null,
   "metadata": {
    "colab": {
     "base_uri": "https://localhost:8080/"
    },
    "id": "7jBJupvxYkGF",
    "outputId": "c0963a08-662c-4df7-a1aa-785a704043e8"
   },
   "outputs": [],
   "source": [
    "wars[0].columns # column names"
   ]
  },
  {
   "cell_type": "code",
   "execution_count": null,
   "metadata": {
    "colab": {
     "base_uri": "https://localhost:8080/"
    },
    "id": "ItgvCRPvYn9r",
    "outputId": "a010ea3e-0f8a-42b1-a77f-edd16e2e3fac"
   },
   "outputs": [],
   "source": [
    "wars[0].info() # column data types"
   ]
  },
  {
   "cell_type": "code",
   "execution_count": null,
   "metadata": {
    "colab": {
     "base_uri": "https://localhost:8080/",
     "height": 337
    },
    "id": "zWZhUhFnYtf9",
    "outputId": "0d29ca06-da76-401f-a3ae-0559c7ed202b"
   },
   "outputs": [],
   "source": [
    "wars[0].head() # or tail()"
   ]
  },
  {
   "cell_type": "markdown",
   "metadata": {
    "id": "j0I2PCpBoc6G"
   },
   "source": [
    "Exercise:\n",
    "\n",
    "Request the following information:\n",
    "* The amount of rows in the other data frames in the object _wars_.\n",
    "* Confirm all those data frames share the same column names.\n",
    "* Create a folder DataFiles and save the other DFs there. Use this code as an example:"
   ]
  },
  {
   "cell_type": "code",
   "execution_count": null,
   "metadata": {
    "id": "Ku6s53l3o1WX"
   },
   "outputs": [],
   "source": [
    "import os\n",
    "\n",
    "wars[0].to_csv(os.path.join(\"DataFiles\",\"wars1P.csv\"),index=False)"
   ]
  },
  {
   "cell_type": "code",
   "execution_count": null,
   "metadata": {},
   "outputs": [],
   "source": []
  }
 ],
 "metadata": {
  "colab": {
   "collapsed_sections": [],
   "name": "GetData.ipynb",
   "provenance": []
  },
  "kernelspec": {
   "display_name": "Python 3 (ipykernel)",
   "language": "python",
   "name": "python3"
  },
  "language_info": {
   "codemirror_mode": {
    "name": "ipython",
    "version": 3
   },
   "file_extension": ".py",
   "mimetype": "text/x-python",
   "name": "python",
   "nbconvert_exporter": "python",
   "pygments_lexer": "ipython3",
   "version": "3.12.0"
  }
 },
 "nbformat": 4,
 "nbformat_minor": 4
}
